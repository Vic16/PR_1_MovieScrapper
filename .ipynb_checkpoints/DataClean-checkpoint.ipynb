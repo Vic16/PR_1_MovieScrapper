{
 "cells": [
  {
   "cell_type": "markdown",
   "id": "7bb493b5",
   "metadata": {},
   "source": [
    "Importamos las librerías necesarias"
   ]
  },
  {
   "cell_type": "code",
   "execution_count": 1,
   "id": "b4998476",
   "metadata": {},
   "outputs": [],
   "source": [
    "import pandas as pd\n",
    "import json"
   ]
  },
  {
   "cell_type": "code",
   "execution_count": 19,
   "id": "16deb15e",
   "metadata": {},
   "outputs": [
    {
     "name": "stdout",
     "output_type": "stream",
     "text": [
      "Número de registros contenidos en el fichero json: 22979\n"
     ]
    }
   ],
   "source": [
    "with open('source/data_wiki.json', 'r') as f:   ## Cargamos el fichero json output del spyder\n",
    "    data = json.load(f)\n",
    "    print(\"Número de registros contenidos en el fichero json: {}\".format(len(data)))"
   ]
  },
  {
   "cell_type": "code",
   "execution_count": 12,
   "id": "9b3e1684",
   "metadata": {},
   "outputs": [],
   "source": [
    "moviesData = []\n",
    "moviesMetadata = []\n",
    "castData = []\n",
    "\n",
    "# iteramos sobre los datos y separamos la información en tres tablas principales:\n",
    "\n",
    "for e,i in enumerate(data):\n",
    "    keys = list(data[e].keys())\n",
    "    if 'title' in keys:\n",
    "        moviesData.append(data[e])\n",
    "        #data.pop(e)\n",
    "    elif 'movie' in keys:\n",
    "        moviesMetadata.append(data[e])\n",
    "    elif 'name' in keys:\n",
    "        castData.append(data[e])"
   ]
  },
  {
   "cell_type": "code",
   "execution_count": 26,
   "id": "5b4f4627",
   "metadata": {},
   "outputs": [
    {
     "name": "stdout",
     "output_type": "stream",
     "text": [
      "Total Registros de películas: 1348\n",
      "Total Registros de información extra de las películas: 18376\n",
      "Total Registros del cast de las películas: 3255\n"
     ]
    }
   ],
   "source": [
    "### Guardamos la información en los diferentes ficheros CSV. \n",
    "\n",
    "df_movies = pd.DataFrame(moviesData)\n",
    "df_movies.to_csv(\"dataset/df_movies.csv\",sep = \"|\", index=False)\n",
    "print(\"Total Registros de películas: {}\".format(df_movies.shape[0]))\n",
    "\n",
    "\n",
    "df_metamovies = pd.DataFrame(moviesMetadata)\n",
    "df_metamovies.to_csv(\"dataset/df_metamovies.csv\",sep = \"|\", index=False)\n",
    "print(\"Total Registros de información extra de las películas: {}\".format(df_metamovies.shape[0]))\n",
    "\n",
    "df_castData = pd.DataFrame(castData)\n",
    "df_castData.to_csv(\"dataset/df_castData.csv\",sep = \"|\", index=False)\n",
    "print(\"Total Registros del cast de las películas: {}\".format(df_castData.shape[0]))\n",
    "\n"
   ]
  },
  {
   "cell_type": "code",
   "execution_count": 8,
   "id": "b4805ac0",
   "metadata": {},
   "outputs": [
    {
     "data": {
      "text/html": [
       "<div>\n",
       "<style scoped>\n",
       "    .dataframe tbody tr th:only-of-type {\n",
       "        vertical-align: middle;\n",
       "    }\n",
       "\n",
       "    .dataframe tbody tr th {\n",
       "        vertical-align: top;\n",
       "    }\n",
       "\n",
       "    .dataframe thead th {\n",
       "        text-align: right;\n",
       "    }\n",
       "</style>\n",
       "<table border=\"1\" class=\"dataframe\">\n",
       "  <thead>\n",
       "    <tr style=\"text-align: right;\">\n",
       "      <th></th>\n",
       "      <th>title</th>\n",
       "      <th>year</th>\n",
       "      <th>best movie</th>\n",
       "      <th>awards</th>\n",
       "      <th>nominations</th>\n",
       "      <th>linkMovie</th>\n",
       "    </tr>\n",
       "  </thead>\n",
       "  <tbody>\n",
       "    <tr>\n",
       "      <th>914</th>\n",
       "      <td>Dangerous</td>\n",
       "      <td>1935</td>\n",
       "      <td>False</td>\n",
       "      <td>1</td>\n",
       "      <td>1\\n</td>\n",
       "      <td>/wiki/Dangerous_(1935_film)</td>\n",
       "    </tr>\n",
       "    <tr>\n",
       "      <th>976</th>\n",
       "      <td>Glass</td>\n",
       "      <td>1959</td>\n",
       "      <td>False</td>\n",
       "      <td>1</td>\n",
       "      <td>1\\n</td>\n",
       "      <td>/wiki/Glass_(1958_film)</td>\n",
       "    </tr>\n",
       "    <tr>\n",
       "      <th>221</th>\n",
       "      <td>Le Mozart des pickpockets</td>\n",
       "      <td>2007</td>\n",
       "      <td>False</td>\n",
       "      <td>1</td>\n",
       "      <td>1\\n</td>\n",
       "      <td>/wiki/Le_Mozart_des_pickpockets</td>\n",
       "    </tr>\n",
       "  </tbody>\n",
       "</table>\n",
       "</div>"
      ],
      "text/plain": [
       "                         title  year  best movie awards nominations  \\\n",
       "914                  Dangerous  1935       False      1         1\\n   \n",
       "976                      Glass  1959       False      1         1\\n   \n",
       "221  Le Mozart des pickpockets  2007       False      1         1\\n   \n",
       "\n",
       "                           linkMovie  \n",
       "914      /wiki/Dangerous_(1935_film)  \n",
       "976          /wiki/Glass_(1958_film)  \n",
       "221  /wiki/Le_Mozart_des_pickpockets  "
      ]
     },
     "execution_count": 8,
     "metadata": {},
     "output_type": "execute_result"
    }
   ],
   "source": [
    "df_movies.sample(3)"
   ]
  },
  {
   "cell_type": "code",
   "execution_count": 24,
   "id": "7c1c4ec5",
   "metadata": {},
   "outputs": [
    {
     "data": {
      "text/html": [
       "<div>\n",
       "<style scoped>\n",
       "    .dataframe tbody tr th:only-of-type {\n",
       "        vertical-align: middle;\n",
       "    }\n",
       "\n",
       "    .dataframe tbody tr th {\n",
       "        vertical-align: top;\n",
       "    }\n",
       "\n",
       "    .dataframe thead th {\n",
       "        text-align: right;\n",
       "    }\n",
       "</style>\n",
       "<table border=\"1\" class=\"dataframe\">\n",
       "  <thead>\n",
       "    <tr style=\"text-align: right;\">\n",
       "      <th></th>\n",
       "      <th>movie</th>\n",
       "      <th>\"Directed\"</th>\n",
       "      <th>link</th>\n",
       "      <th>\"Screenplay\"</th>\n",
       "      <th>\"Starring\"</th>\n",
       "      <th>\"Produced\"</th>\n",
       "      <th>'Cinematography'</th>\n",
       "      <th>'Edited'</th>\n",
       "      <th>'Distributed'</th>\n",
       "      <th>'Language'</th>\n",
       "      <th>'Music'</th>\n",
       "      <th>'Country'</th>\n",
       "      <th>'Box office'</th>\n",
       "      <th>'Budget'</th>\n",
       "      <th>'Production company'</th>\n",
       "      <th>'Running time'</th>\n",
       "    </tr>\n",
       "  </thead>\n",
       "  <tbody>\n",
       "    <tr>\n",
       "      <th>17129</th>\n",
       "      <td>Two Arabian Knights</td>\n",
       "      <td>NaN</td>\n",
       "      <td>https://en.wikipedia.org/wiki/Two_Arabian_Knights</td>\n",
       "      <td>Wallace Smith</td>\n",
       "      <td>NaN</td>\n",
       "      <td>NaN</td>\n",
       "      <td>NaN</td>\n",
       "      <td>NaN</td>\n",
       "      <td>NaN</td>\n",
       "      <td>NaN</td>\n",
       "      <td>NaN</td>\n",
       "      <td>NaN</td>\n",
       "      <td>NaN</td>\n",
       "      <td>NaN</td>\n",
       "      <td>NaN</td>\n",
       "      <td>NaN</td>\n",
       "    </tr>\n",
       "    <tr>\n",
       "      <th>11639</th>\n",
       "      <td>Cleopatra</td>\n",
       "      <td>NaN</td>\n",
       "      <td>https://en.wikipedia.org/wiki/Cleopatra_(1963_...</td>\n",
       "      <td>NaN</td>\n",
       "      <td>NaN</td>\n",
       "      <td>NaN</td>\n",
       "      <td>NaN</td>\n",
       "      <td>NaN</td>\n",
       "      <td>NaN</td>\n",
       "      <td>NaN</td>\n",
       "      <td>NaN</td>\n",
       "      <td>NaN</td>\n",
       "      <td>$57.8 million</td>\n",
       "      <td>NaN</td>\n",
       "      <td>NaN</td>\n",
       "      <td>NaN</td>\n",
       "    </tr>\n",
       "    <tr>\n",
       "      <th>2330</th>\n",
       "      <td>The Curious Case of Benjamin Button</td>\n",
       "      <td>NaN</td>\n",
       "      <td>https://en.wikipedia.org/wiki/The_Curious_Case...</td>\n",
       "      <td>NaN</td>\n",
       "      <td>NaN</td>\n",
       "      <td>NaN</td>\n",
       "      <td>NaN</td>\n",
       "      <td>Angus Wall</td>\n",
       "      <td>NaN</td>\n",
       "      <td>NaN</td>\n",
       "      <td>NaN</td>\n",
       "      <td>NaN</td>\n",
       "      <td>NaN</td>\n",
       "      <td>NaN</td>\n",
       "      <td>NaN</td>\n",
       "      <td>NaN</td>\n",
       "    </tr>\n",
       "  </tbody>\n",
       "</table>\n",
       "</div>"
      ],
      "text/plain": [
       "                                     movie \"Directed\"  \\\n",
       "17129                  Two Arabian Knights        NaN   \n",
       "11639                            Cleopatra        NaN   \n",
       "2330   The Curious Case of Benjamin Button        NaN   \n",
       "\n",
       "                                                    link   \"Screenplay\"  \\\n",
       "17129  https://en.wikipedia.org/wiki/Two_Arabian_Knights  Wallace Smith   \n",
       "11639  https://en.wikipedia.org/wiki/Cleopatra_(1963_...            NaN   \n",
       "2330   https://en.wikipedia.org/wiki/The_Curious_Case...            NaN   \n",
       "\n",
       "      \"Starring\" \"Produced\" 'Cinematography'    'Edited' 'Distributed'  \\\n",
       "17129        NaN        NaN              NaN         NaN           NaN   \n",
       "11639        NaN        NaN              NaN         NaN           NaN   \n",
       "2330         NaN        NaN              NaN  Angus Wall           NaN   \n",
       "\n",
       "      'Language' 'Music' 'Country'    'Box office' 'Budget'  \\\n",
       "17129        NaN     NaN       NaN             NaN      NaN   \n",
       "11639        NaN     NaN       NaN  $57.8 million       NaN   \n",
       "2330         NaN     NaN       NaN             NaN      NaN   \n",
       "\n",
       "      'Production company' 'Running time'  \n",
       "17129                  NaN            NaN  \n",
       "11639                  NaN            NaN  \n",
       "2330                   NaN            NaN  "
      ]
     },
     "execution_count": 24,
     "metadata": {},
     "output_type": "execute_result"
    }
   ],
   "source": [
    "df_metamovies.sample(3)"
   ]
  },
  {
   "cell_type": "code",
   "execution_count": 11,
   "id": "cfab70ed",
   "metadata": {},
   "outputs": [
    {
     "data": {
      "text/html": [
       "<div>\n",
       "<style scoped>\n",
       "    .dataframe tbody tr th:only-of-type {\n",
       "        vertical-align: middle;\n",
       "    }\n",
       "\n",
       "    .dataframe tbody tr th {\n",
       "        vertical-align: top;\n",
       "    }\n",
       "\n",
       "    .dataframe thead th {\n",
       "        text-align: right;\n",
       "    }\n",
       "</style>\n",
       "<table border=\"1\" class=\"dataframe\">\n",
       "  <thead>\n",
       "    <tr style=\"text-align: right;\">\n",
       "      <th></th>\n",
       "      <th>name</th>\n",
       "      <th>female</th>\n",
       "      <th>birthdate</th>\n",
       "      <th>birthplace</th>\n",
       "      <th>link</th>\n",
       "    </tr>\n",
       "  </thead>\n",
       "  <tbody>\n",
       "    <tr>\n",
       "      <th>2</th>\n",
       "      <td>None</td>\n",
       "      <td>True</td>\n",
       "      <td>None</td>\n",
       "      <td>[]</td>\n",
       "      <td>https://en.wikipedia.org/wiki/Lusia_Harris</td>\n",
       "    </tr>\n",
       "    <tr>\n",
       "      <th>2070</th>\n",
       "      <td>Ann Miller</td>\n",
       "      <td>True</td>\n",
       "      <td>1923-04-12</td>\n",
       "      <td>[Chireno, Texas, , U.S.]</td>\n",
       "      <td>https://en.wikipedia.org/wiki/Ann_Miller</td>\n",
       "    </tr>\n",
       "    <tr>\n",
       "      <th>2805</th>\n",
       "      <td>Josephine Hutchinson</td>\n",
       "      <td>True</td>\n",
       "      <td>1903-10-12</td>\n",
       "      <td>[Seattle, , Washington, U.S.]</td>\n",
       "      <td>https://en.wikipedia.org/wiki/Josephine_Hutchi...</td>\n",
       "    </tr>\n",
       "  </tbody>\n",
       "</table>\n",
       "</div>"
      ],
      "text/plain": [
       "                      name female   birthdate                     birthplace  \\\n",
       "2                     None   True        None                             []   \n",
       "2070            Ann Miller   True  1923-04-12       [Chireno, Texas, , U.S.]   \n",
       "2805  Josephine Hutchinson   True  1903-10-12  [Seattle, , Washington, U.S.]   \n",
       "\n",
       "                                                   link  \n",
       "2            https://en.wikipedia.org/wiki/Lusia_Harris  \n",
       "2070           https://en.wikipedia.org/wiki/Ann_Miller  \n",
       "2805  https://en.wikipedia.org/wiki/Josephine_Hutchi...  "
      ]
     },
     "execution_count": 11,
     "metadata": {},
     "output_type": "execute_result"
    }
   ],
   "source": [
    "df_castData.sample(3)"
   ]
  }
 ],
 "metadata": {
  "kernelspec": {
   "display_name": "Python 3",
   "language": "python",
   "name": "python3"
  },
  "language_info": {
   "codemirror_mode": {
    "name": "ipython",
    "version": 3
   },
   "file_extension": ".py",
   "mimetype": "text/x-python",
   "name": "python",
   "nbconvert_exporter": "python",
   "pygments_lexer": "ipython3",
   "version": "3.8.8"
  }
 },
 "nbformat": 4,
 "nbformat_minor": 5
}
